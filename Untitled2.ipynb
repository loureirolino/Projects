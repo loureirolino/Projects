{
 "cells": [
  {
   "cell_type": "code",
   "execution_count": 2,
   "id": "3ba91865-bbff-46c2-83af-3c3365a3e068",
   "metadata": {},
   "outputs": [],
   "source": [
    "import numpy as np"
   ]
  },
  {
   "cell_type": "code",
   "execution_count": 17,
   "id": "709bda38-630e-4d79-9c29-47a0ed4fef66",
   "metadata": {},
   "outputs": [],
   "source": [
    "list_2 = [0, 1, 2, 3, 5, 6, 7, 8]"
   ]
  },
  {
   "cell_type": "code",
   "execution_count": 11,
   "id": "b49f1d1f-bc6e-4fa8-95c3-d7468ede1f67",
   "metadata": {},
   "outputs": [
    {
     "data": {
      "text/plain": [
       "2"
      ]
     },
     "execution_count": 11,
     "metadata": {},
     "output_type": "execute_result"
    }
   ],
   "source": [
    "list_1[0][1]"
   ]
  },
  {
   "cell_type": "code",
   "execution_count": 9,
   "id": "f32b69a5-4bba-48ae-b481-daf8879d1333",
   "metadata": {},
   "outputs": [
    {
     "name": "stderr",
     "output_type": "stream",
     "text": [
      "/tmp/ipykernel_1883/1417272930.py:1: VisibleDeprecationWarning: Creating an ndarray from ragged nested sequences (which is a list-or-tuple of lists-or-tuples-or ndarrays with different lengths or shapes) is deprecated. If you meant to do this, you must specify 'dtype=object' when creating the ndarray.\n",
      "  list_1 = np.array(list_1)\n"
     ]
    }
   ],
   "source": [
    "list_1[0] = np.array(list_1[0])"
   ]
  },
  {
   "cell_type": "code",
   "execution_count": 10,
   "id": "2d58ddf3-1a6d-4658-b0d4-b09ef8235bb9",
   "metadata": {},
   "outputs": [
    {
     "data": {
      "text/plain": [
       "array([list([1, 2, 3, 1, 2, 3]), 2, 4, 6], dtype=object)"
      ]
     },
     "execution_count": 10,
     "metadata": {},
     "output_type": "execute_result"
    }
   ],
   "source": [
    "list_1 * 2"
   ]
  },
  {
   "cell_type": "code",
   "execution_count": 19,
   "id": "ada792d4-3a7f-414a-85fb-1bd045258cfc",
   "metadata": {},
   "outputs": [
    {
     "name": "stdout",
     "output_type": "stream",
     "text": [
      "[0, 2, 4, 6, 10, 12, 14, 16]\n"
     ]
    }
   ],
   "source": [
    "print([x*y for x in list_2 for y in list_1])"
   ]
  },
  {
   "cell_type": "code",
   "execution_count": null,
   "id": "e45d095f-320d-4dfc-8e74-3363f633d4f7",
   "metadata": {},
   "outputs": [],
   "source": [
    "{x:y }"
   ]
  },
  {
   "cell_type": "code",
   "execution_count": 7,
   "id": "e14a796e-1b63-4fac-84f8-2f647cb6292c",
   "metadata": {},
   "outputs": [
    {
     "name": "stdout",
     "output_type": "stream",
     "text": [
      "[[1, 2, 3], 1, 2, 3, [1, 2, 3], 1, 2, 3]\n"
     ]
    }
   ],
   "source": [
    "\n",
    "i = 0\n",
    "while\n",
    "i += 1\n",
    "    for range(i:4):\n",
    "    \n",
    "    if brek\n",
    "    "
   ]
  }
 ],
 "metadata": {
  "kernelspec": {
   "display_name": "Python 3 (ipykernel)",
   "language": "python",
   "name": "python3"
  },
  "language_info": {
   "codemirror_mode": {
    "name": "ipython",
    "version": 3
   },
   "file_extension": ".py",
   "mimetype": "text/x-python",
   "name": "python",
   "nbconvert_exporter": "python",
   "pygments_lexer": "ipython3",
   "version": "3.8.10"
  }
 },
 "nbformat": 4,
 "nbformat_minor": 5
}
